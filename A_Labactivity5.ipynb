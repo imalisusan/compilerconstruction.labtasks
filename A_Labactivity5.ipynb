{
  "nbformat": 4,
  "nbformat_minor": 0,
  "metadata": {
    "colab": {
      "provenance": []
    },
    "kernelspec": {
      "name": "python3",
      "display_name": "Python 3"
    },
    "language_info": {
      "name": "python"
    }
  },
  "cells": [
    {
      "cell_type": "markdown",
      "source": [
        "**Question 1- Review what syntax analysis is and in a few words, describe what this phase of compiler construction entails. **\n",
        "\n",
        "Syntax Analysis is a second phase of the compiler design process in which the given input string is checked for the confirmation of rules and structure of the formal grammar. It analyses the syntactical structure and checks if the given input is in the correct syntax of the programming language or not.\n",
        "\n",
        "The syntax analyser also checks whether a given program fulfills the rules implied by a context-free grammar. If it satisfies, the parser then creates the parse tree of that source program. Otherwise, it will display error messages."
      ],
      "metadata": {
        "id": "6v1q4kiks-MC"
      }
    },
    {
      "cell_type": "markdown",
      "source": [
        "**Question 2- Using Flex and Bison, show how one can develop a simple syntax analyzer. **"
      ],
      "metadata": {
        "id": "51imWaTuuQ-u"
      }
    },
    {
      "cell_type": "markdown",
      "source": [
        "\n",
        "\n",
        "```\n",
        "/*** This lexical analyzer counts the number of tokens in a given file ***/\n",
        "\n",
        "/*** Definition Section has one variable\n",
        "which can be accessed inside yylex()\n",
        "and main() ***/\n",
        "%{\n",
        "int count_letters = 0;\n",
        "int count_numbers = 0;\n",
        "int count_operators = 0;\n",
        "int count_punctuators = 0;\n",
        "%}\n",
        " \n",
        "/*** Rule Section has four rules \n",
        "first rule matches with letters, \n",
        "second rule matches with numbers, \n",
        "third rule matches with operators,\n",
        "fourth rule matches with punctuators\n",
        "***/\n",
        "%%\n",
        "[a-z] {printf(\"%s is an letter\\n\", yytext); count_letters++;}\n",
        "[0-9] {printf(\"%s is a constant\\n\", yytext); count_numbers++;}\n",
        "[\"+\"|\"-\"|\"=\"|\"*\"|\"/\"|] {printf(\"%s is an operator\\n\", yytext); count_operators++;}\n",
        "[\"!\"|\"?\"|\".\"|\":\"|\";\"] {printf(\"%s is a punctuator\\n\", yytext); count_punctuators++;}\n",
        "%%\n",
        " \n",
        "/*** Code Section prints the number of\n",
        "tokens present in the given input file***/\n",
        "int yywrap(){}\n",
        "int main(){ \n",
        "// Take input from file \n",
        " FILE *fp;\n",
        " char filename[50];\n",
        " printf(\"Enter the filename: \\n\");\n",
        " scanf(\"%s\",filename);\n",
        " fp = fopen(filename,\"r\");\n",
        " yyin = fp;\n",
        " \n",
        "yylex();\n",
        "printf(\"\\nNumber of letters in the given input file: %d\\n\", count_letters);\n",
        "printf(\"\\nNumber of numbers in the given input file: %d\\n\", count_numbers);\n",
        "printf(\"\\nNumber of operators in the given input file: %d\\n\", count_operators);\n",
        "printf(\"\\nNumber of punctuators in the given input file: %d\\n\", count_punctuators);\n",
        " \n",
        "return 0;\n",
        "}\n",
        "```\n",
        "\n"
      ],
      "metadata": {
        "id": "Xpk5jwN29CwT"
      }
    }
  ]
}
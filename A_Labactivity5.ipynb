{
  "nbformat": 4,
  "nbformat_minor": 0,
  "metadata": {
    "colab": {
      "provenance": []
    },
    "kernelspec": {
      "name": "python3",
      "display_name": "Python 3"
    },
    "language_info": {
      "name": "python"
    }
  },
  "cells": [
    {
      "cell_type": "markdown",
      "source": [
        "**Question 1- Review what syntax analysis is and in a few words, describe what this phase of compiler construction entails. **\n",
        "\n",
        "Syntax Analysis is a second phase of the compiler design process in which the given input string is checked for the confirmation of rules and structure of the formal grammar. It analyses the syntactical structure and checks if the given input is in the correct syntax of the programming language or not.\n",
        "\n",
        "The syntax analyser also checks whether a given program fulfills the rules implied by a context-free grammar. If it satisfies, the parser then creates the parse tree of that source program. Otherwise, it will display error messages."
      ],
      "metadata": {
        "id": "6v1q4kiks-MC"
      }
    },
    {
      "cell_type": "markdown",
      "source": [
        "**Question 2- Using Flex and Bison, show how one can develop a simple syntax analyzer. **\n",
        "\n",
        "The syntax analyzer below is that of a calculator. \n",
        "\n",
        "The lex file includes the parser file in its definiton and defines some rules using some tokens that are declared and accessed from the parser. "
      ],
      "metadata": {
        "id": "51imWaTuuQ-u"
      }
    },
    {
      "cell_type": "markdown",
      "source": [
        "\n",
        "\n",
        "```\n",
        "/*** The lexer file ***/\n",
        "\n",
        "%{\n",
        "/* definitions */\n",
        "#include \"parser.tab.h\"\n",
        "%}\n",
        " \n",
        "/*rules*/\n",
        "%%\n",
        "\n",
        "[0-9]+ {yyval.num = atoi(yytext); return NUMBER; }\n",
        "\"+\" {return PLUS}\n",
        "\"-\" {return MINUS}\n",
        "\"*\" {return MULTIPLY}\n",
        "\\n {return EOL}\n",
        ".{}\n",
        "%%\n",
        "\n",
        "yywrap() {}\n",
        "```\n",
        "\n"
      ],
      "metadata": {
        "id": "Xpk5jwN29CwT"
      }
    },
    {
      "cell_type": "markdown",
      "source": [
        "The parser declares the tokens it will use like End of line, number, plus, minus e.t.c.\n",
        "\n",
        "The parser then specifies the rules it uses. \n",
        "For example if one enters a number + number, it knows to add the two numbers. If one presses enter it knows to go to the next line. "
      ],
      "metadata": {
        "id": "L2Da7mC8Oy1E"
      }
    },
    {
      "cell_type": "markdown",
      "source": [
        "\n",
        "\n",
        "```\n",
        "/*** The parser file ***/\n",
        "\n",
        "%{\n",
        "/* definitions */\n",
        "%}\n",
        " \n",
        "%union{\n",
        "  int num;\n",
        "  char sym;\n",
        "}\n",
        "\n",
        "%token EOL\n",
        "%token<num> NUMBER\n",
        "%type<num> exp\n",
        "%token PLUS MINUS MULTIPLY\n",
        "\n",
        "/*rules*/\n",
        "%%\n",
        "input:\n",
        "        | line input;\n",
        "line : \n",
        "        exp EOL {printf(\"%d\\n\", $1);}\n",
        "        | EOL;\n",
        "exp : \n",
        "        NUMBER {$$ = $1; }\n",
        "        | exp PLUS exp {$$ = $1 +$3; }\n",
        "        | exp MINUS exp {$$ = $1 -$3; }\n",
        "        | exp MULTIPLY exp {$$ = $1 *$3; }\n",
        "        ;\n",
        "%%\n",
        "\n",
        "int main()\n",
        "{\n",
        "  yyparse();\n",
        "  return 0;\n",
        "}\n",
        "```\n",
        "\n"
      ],
      "metadata": {
        "id": "PCQWvYi_Jx6l"
      }
    }
  ]
}
{
  "nbformat": 4,
  "nbformat_minor": 0,
  "metadata": {
    "colab": {
      "provenance": []
    },
    "kernelspec": {
      "name": "python3",
      "display_name": "Python 3"
    },
    "language_info": {
      "name": "python"
    }
  },
  "cells": [
    {
      "cell_type": "markdown",
      "source": [
        "\n",
        "\n",
        "```\n",
        "/*** This lexical analyzer counts the number of tokens in a given file containing C code ***/\n",
        "\n",
        "/*** Definition Section has one variable\n",
        "which can be accessed inside yylex()\n",
        "and main() ***/\n",
        "%{\n",
        "int count_identifiers = 0;\n",
        "int count_constants = 0;\n",
        "int count_operators = 0;\n",
        "int count_punctuators = 0;\n",
        "int count_keywords = 0;\n",
        "%}\n",
        " \n",
        "/*** Rule Section has five rules \n",
        "first rule matches with identifiers, \n",
        "second rule matches with constants, \n",
        "third rule matches with operators,\n",
        "fourth rule matches with punctuators,\n",
        "fifth rule matches with keywords \n",
        "***/\n",
        "%%\n",
        "[a-z] {printf(\"%s is an identifier\\n\", yytext); count_identifiers++;}\n",
        "[0-9] {printf(\"%s is a constant\\n\", yytext); count_constants++;}\n",
        "[\"+\"|\"-\"|\"=\"|\"*\"|\"/\"|] {printf(\"%s is an operator\\n\", yytext); count_operators++;}\n",
        "[\"!\"|\"?\"|\".\"|\":\"|\";\"] {printf(\"%s is a punctuator\\n\", yytext); count_punctuators++;}\n",
        "[\"int\", \"if\", \"else\", \"printf\"] {printf(\"%s is a keyword\\n\", yytext); count_keywords++;}\n",
        "%%\n",
        " \n",
        "/*** Code Section prints the number of\n",
        "tokens present in the given input file***/\n",
        "int yywrap(){}\n",
        "int main(){ \n",
        "// Take input from file C file\n",
        " FILE *fp;\n",
        " char filename[50];\n",
        " printf(\"Enter the filename: \\n\");\n",
        " scanf(\"%s\",filename);\n",
        " fp = fopen(filename,\"r\");\n",
        " yyin = fp;\n",
        " \n",
        "yylex();\n",
        "printf(\"\\nNumber of identifiers in the given input file: %d\\n\", count_identifiers);\n",
        "printf(\"\\nNumber of constants in the given input file: %d\\n\", count_constants);\n",
        "printf(\"\\nNumber of operators in the given input file: %d\\n\", count_operators);\n",
        "printf(\"\\nNumber of punctuators in the given input file: %d\\n\", count_punctuators);\n",
        "printf(\"\\nNumber of keywords in the given input file: %d\\n\", count_keywords);\n",
        " \n",
        "return 0;\n",
        "}\n",
        "```\n",
        "\n"
      ],
      "metadata": {
        "id": "Xpk5jwN29CwT"
      }
    }
  ]
}